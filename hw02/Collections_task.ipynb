{
 "cells": [
  {
   "cell_type": "markdown",
   "metadata": {},
   "source": [
    "### Входные данные\n",
    "\n",
    "У вас имеется поток данных (генератор data_stream). Поля это случайные величины - так сделано для упрощения генерации данных. Есть три поля (названы по уровню сложности задания)\n",
    "\n",
    "### Задание\n",
    "##### Мотивация:\n",
    "У вас есть куча временных рядов, вы хотите научиться предсказывать следующее значение по 1000 предыдущим. 1000 признаков окна это слишком много, однако вы решили заменить их 5ю: средним, дисперсией, минимумом, медианой и максимумом. Однако, все эти признаки надо подсчитать, причём хочется уметь это делать быстро (в течение часа)\n",
    "##### Для каждого поля нужно сделать следующее:\n",
    "\n",
    "1. Пробежаться по данным окном размера 1000 (окно сдвигается на 1, то есть следующее окно пересекается с предыдущим по 999 элементам).\n",
    "\n",
    "2. Для каждого окна посчитайте среднее значение поля и его дисперсию. Делайте yield этих значений, получая генератор tuple. \n",
    "\n",
    "3. Для каждого окна найдине минимум, медиану и максимум в нём. Делайте yield этих значений, получая генератор tuple. \n",
    "\n",
    "Ответом, который нужно будет засабмитить в гугл форму, является среднее значение tuple по получившемуся потоку, округлённое до **2го знака**.\n",
    "\n",
    "### Замечания\n",
    "\n",
    "1. Обратите внимания как генерируются поля. Постарайтесь понять особенность каждого поля и как это можно использовать. Желательно, чтобы для каждого поля у вас было своё решение, максимально эффективно использующее знание об этом поле.\n",
    "2. Полезные библиотеки: itertools, numpy, collections + всё что найдёте в интернете и можно поставить через pip install\n",
    "3. **Медианой отсортированного массива arr считайте значение arr[len(arr) // 2]**\n",
    "\n",
    "\n",
    "\n",
    "Если измерять время работы функций временем работы функции example, то примерное время работы такое:\n",
    "Одновременно среднее, дисперсия - 1 минута\n",
    "Одновременно минимум, максимум и медиана:easy - 3 минуты\n",
    "medium - 6 минут\n",
    "nightmare - 6 минут\n"
   ]
  },
  {
   "cell_type": "markdown",
   "metadata": {},
   "source": [
    "#### Генерация данных"
   ]
  },
  {
   "cell_type": "code",
   "execution_count": 1,
   "metadata": {},
   "outputs": [],
   "source": [
    "from collections import namedtuple\n",
    "import random\n",
    "\n",
    "Record = namedtuple('Record', 'easy medium nightmare')\n",
    "\n",
    "def data_stream():\n",
    "    random_generator = random.Random(42)\n",
    "    easy = 0\n",
    "    for _ in range(10000000):\n",
    "        easy += random_generator.randint(0, 2) \n",
    "        medium = random_generator.randint(0, 256 - 1)\n",
    "        nightmare = random_generator.randint(0, 1000000000 - 1)\n",
    "        \n",
    "        yield Record(\n",
    "            easy=easy,\n",
    "            medium=medium,\n",
    "            nightmare=nightmare\n",
    "        )\n",
    "        \n",
    "def easy_stream():\n",
    "    for record in data_stream():\n",
    "        yield record.easy\n",
    "        \n",
    "def medium_stream():\n",
    "    for record in data_stream():\n",
    "        yield record.medium\n",
    "        \n",
    "def nightmare_stream():\n",
    "    for record in data_stream():\n",
    "        yield record.nightmare"
   ]
  },
  {
   "cell_type": "code",
   "execution_count": 2,
   "metadata": {},
   "outputs": [
    {
     "data": {
      "text/plain": [
       "<generator object easy_stream at 0x0583D270>"
      ]
     },
     "execution_count": 2,
     "metadata": {},
     "output_type": "execute_result"
    }
   ],
   "source": [
    "easy_stream()"
   ]
  },
  {
   "cell_type": "code",
   "execution_count": 3,
   "metadata": {},
   "outputs": [],
   "source": [
    "import numpy as np\n",
    "\n",
    "def get_tuple_stream_mean(stream, number_of_values):\n",
    "    result = np.zeros(number_of_values, dtype='object')\n",
    "    count = 0. \n",
    "    for streamed_tuple in stream:\n",
    "        result += streamed_tuple\n",
    "        count += 1\n",
    "    return ['{:0.2f}'.format(x) for x in result / count]"
   ]
  },
  {
   "cell_type": "code",
   "execution_count": 4,
   "metadata": {},
   "outputs": [
    {
     "name": "stdout",
     "output_type": "stream",
     "text": [
      "['127.48', '127.48']\n",
      "Wall time: 2min 6s\n"
     ]
    }
   ],
   "source": [
    "%%time\n",
    "def example(stream):\n",
    "    for value in stream:\n",
    "        yield (value, value + 10)\n",
    "print(get_tuple_stream_mean(medium_stream(), 2))"
   ]
  },
  {
   "cell_type": "code",
   "execution_count": 5,
   "metadata": {},
   "outputs": [
    {
     "data": {
      "text/plain": [
       "2"
      ]
     },
     "execution_count": 5,
     "metadata": {},
     "output_type": "execute_result"
    }
   ],
   "source": [
    "next(easy_stream())"
   ]
  },
  {
   "cell_type": "code",
   "execution_count": 8,
   "metadata": {},
   "outputs": [],
   "source": [
    "import collections\n",
    "\n",
    "\n",
    "def main(stream):\n",
    "    intersection = collections.deque()\n",
    "    for _ in range(1000):\n",
    "        intersection.append(next(stream))\n",
    "    summ = sum(intersection)\n",
    "    avg = summ/1000\n",
    "    yield avg\n",
    "    for next_element in stream:\n",
    "        old = intersection.popleft()\n",
    "        intersection.append(next_element)\n",
    "        summ += (next_element - old)\n",
    "        avg = summ/1000\n",
    "        yield avg"
   ]
  },
  {
   "cell_type": "code",
   "execution_count": 9,
   "metadata": {},
   "outputs": [],
   "source": [
    "averages = [avg for avg in main(easy_stream())]"
   ]
  },
  {
   "cell_type": "code",
   "execution_count": 12,
   "metadata": {},
   "outputs": [
    {
     "data": {
      "text/plain": [
       "4999675.2764947815"
      ]
     },
     "execution_count": 12,
     "metadata": {},
     "output_type": "execute_result"
    }
   ],
   "source": [
    "np.mean(averages)"
   ]
  },
  {
   "cell_type": "code",
   "execution_count": 13,
   "metadata": {},
   "outputs": [],
   "source": [
    "averages_m = np.mean([avg for avg in main(medium_stream())])\n",
    "averages_n = np.mean([avg for avg in main(nightmare_stream())])"
   ]
  },
  {
   "cell_type": "code",
   "execution_count": 15,
   "metadata": {},
   "outputs": [
    {
     "data": {
      "text/plain": [
       "127.48113997058314"
      ]
     },
     "execution_count": 15,
     "metadata": {},
     "output_type": "execute_result"
    }
   ],
   "source": [
    "averages_m"
   ]
  },
  {
   "cell_type": "code",
   "execution_count": null,
   "metadata": {},
   "outputs": [],
   "source": []
  }
 ],
 "metadata": {
  "kernelspec": {
   "display_name": "Python 3",
   "language": "python",
   "name": "python3"
  },
  "language_info": {
   "codemirror_mode": {
    "name": "ipython",
    "version": 3
   },
   "file_extension": ".py",
   "mimetype": "text/x-python",
   "name": "python",
   "nbconvert_exporter": "python",
   "pygments_lexer": "ipython3",
   "version": "3.7.4"
  }
 },
 "nbformat": 4,
 "nbformat_minor": 1
}
